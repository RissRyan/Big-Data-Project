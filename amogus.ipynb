{
 "cells": [
  {
   "cell_type": "code",
   "execution_count": null,
   "metadata": {},
   "outputs": [],
   "source": [
    "import pandas as pd\n",
    "import plotly.express as px"
   ]
  },
  {
   "cell_type": "code",
   "execution_count": null,
   "metadata": {},
   "outputs": [],
   "source": [
    "data = pd.read_csv('data/2018.csv')"
   ]
  },
  {
   "cell_type": "code",
   "execution_count": null,
   "metadata": {},
   "outputs": [],
   "source": [
    "for bite in data.columns:\n",
    "    print(bite)"
   ]
  },
  {
   "cell_type": "code",
   "execution_count": null,
   "metadata": {},
   "outputs": [],
   "source": [
    "data.drop('Unnamed: 27', axis=1, inplace=True)"
   ]
  },
  {
   "cell_type": "code",
   "execution_count": null,
   "metadata": {},
   "outputs": [],
   "source": [
    "# Utiliser Plotly Express pour créer un histogramme\n",
    "fig = px.histogram(data, x='FL_DATE', title='Histogramme du nombre d\\'entrées pour chaque valeur unique dans FL_DATE')\n",
    "\n",
    "# Afficher le graphique\n",
    "fig.show()"
   ]
  },
  {
   "cell_type": "code",
   "execution_count": null,
   "metadata": {},
   "outputs": [],
   "source": [
    "# Tri des données par fréquence décroissante\n",
    "sorted_data = data['ORIGIN'].value_counts().reset_index().rename(columns={'index': 'ORIGIN', 'ORIGIN': 'count'})\n",
    "sorted_data = sorted_data.head(50)\n",
    "\n",
    "# Création de l'histogramme avec Plotly Express\n",
    "fig = px.bar(sorted_data, x='ORIGIN', y='count', title='Histogramme des 50 plus grandes entrées dans ORIGIN')\n",
    "\n",
    "# Affichage du graphique\n",
    "fig.show()\n"
   ]
  },
  {
   "cell_type": "code",
   "execution_count": null,
   "metadata": {},
   "outputs": [],
   "source": [
    "# Tri des données par fréquence décroissante\n",
    "sorted_data = data['DEST'].value_counts().reset_index().rename(columns={'index': 'DEST', 'DEST': 'count'})\n",
    "sorted_data = sorted_data.head(50)\n",
    "\n",
    "# Création de l'histogramme avec Plotly Express\n",
    "fig = px.bar(sorted_data, x='DEST', y='count', title='Histogramme des 50 plus grandes entrées dans DEST')\n",
    "\n",
    "# Affichage du graphique\n",
    "fig.show()\n"
   ]
  },
  {
   "cell_type": "code",
   "execution_count": null,
   "metadata": {},
   "outputs": [],
   "source": [
    "# Tri des données par fréquence décroissante des compagnies aériennes avec des vols annulés\n",
    "cancelled_data = data[data['CANCELLED'] == 1]['OP_CARRIER'].value_counts().reset_index().rename(columns={'index': 'OP_CARRIER', 'OP_CARRIER': 'count'})\n",
    "cancelled_data = cancelled_data.head(50)\n",
    "\n",
    "# Création de l'histogramme avec Plotly Express\n",
    "fig_cancelled = px.bar(cancelled_data, x='OP_CARRIER', y='count', title='Compagnies aériennes avec le plus d\\'annulations')\n",
    "\n",
    "# Affichage du graphique\n",
    "fig_cancelled.show()\n"
   ]
  },
  {
   "cell_type": "code",
   "execution_count": null,
   "metadata": {},
   "outputs": [],
   "source": [
    "# Distribution des compagnies aériennes\n",
    "carrier_distribution = data['OP_CARRIER'].value_counts().reset_index().rename(columns={'index': 'OP_CARRIER', 'OP_CARRIER': 'count'})\n",
    "\n",
    "# Création du diagramme circulaire avec Plotly Express\n",
    "fig_pie = px.pie(carrier_distribution, names='OP_CARRIER', values='count', title='Distribution des compagnies aériennes')\n",
    "\n",
    "# Affichage du graphique\n",
    "fig_pie.show()\n"
   ]
  },
  {
   "cell_type": "code",
   "execution_count": null,
   "metadata": {},
   "outputs": [],
   "source": [
    "# Remplacement des valeurs nulles par 0 dans les colonnes spécifiées\n",
    "columns_to_fill = ['CARRIER_DELAY', 'WEATHER_DELAY', 'NAS_DELAY', 'SECURITY_DELAY', 'LATE_AIRCRAFT_DELAY']\n",
    "data[columns_to_fill] = data[columns_to_fill].fillna(0)"
   ]
  },
  {
   "cell_type": "code",
   "execution_count": null,
   "metadata": {},
   "outputs": [],
   "source": [
    "# Filtrer les données où CANCELLED est égal à 1\n",
    "cancelled_data = data[data['CANCELLED'] == 1]\n",
    "\n",
    "# Distribution des codes d'annulation\n",
    "cancellation_code_distribution = cancelled_data['CANCELLATION_CODE'].value_counts().reset_index().rename(columns={'index': 'CANCELLATION_CODE', 'CANCELLATION_CODE': 'count'})\n",
    "\n",
    "# Mapping des codes d'annulation à des légendes personnalisées\n",
    "code_labels = {'A': 'Carrier', 'B': 'Weather', 'C': 'NAS', 'D': 'Security'}\n",
    "cancellation_code_distribution['CANCELLATION_LABEL'] = cancellation_code_distribution['CANCELLATION_CODE'].map(code_labels)\n",
    "\n",
    "# Création du diagramme circulaire avec Plotly Express\n",
    "fig_cancelled_pie = px.pie(cancellation_code_distribution, names='CANCELLATION_LABEL', values='count', title='Distribution des codes d\\'annulation pour les vols annulés')\n",
    "\n",
    "# Affichage du graphique\n",
    "fig_cancelled_pie.show()\n"
   ]
  },
  {
   "cell_type": "code",
   "execution_count": null,
   "metadata": {},
   "outputs": [],
   "source": [
    "# Calcul du temps moyen de retard par compagnie aérienne\n",
    "mean_delay_by_carrier = data.groupby('OP_CARRIER')['ARR_DELAY'].mean().reset_index()\n",
    "\n",
    "# Création du graphique à barres avec Plotly Express\n",
    "fig = px.bar(mean_delay_by_carrier, x='OP_CARRIER', y='ARR_DELAY',\n",
    "             labels={'ARR_DELAY': 'Temps Moyen de Retard (min)', 'OP_CARRIER': 'Compagnie Aérienne'},\n",
    "             title='Temps Moyen de Retard par Compagnie Aérienne')\n",
    "fig.update_layout(xaxis={'categoryorder':'total ascending'})\n",
    "fig.show()\n"
   ]
  },
  {
   "cell_type": "code",
   "execution_count": null,
   "metadata": {},
   "outputs": [],
   "source": [
    "len(data['OP_CARRIER'].unique())"
   ]
  },
  {
   "cell_type": "code",
   "execution_count": null,
   "metadata": {},
   "outputs": [],
   "source": []
  }
 ],
 "metadata": {
  "kernelspec": {
   "display_name": "Python 3",
   "language": "python",
   "name": "python3"
  },
  "language_info": {
   "codemirror_mode": {
    "name": "ipython",
    "version": 3
   },
   "file_extension": ".py",
   "mimetype": "text/x-python",
   "name": "python",
   "nbconvert_exporter": "python",
   "pygments_lexer": "ipython3",
   "version": "3.10.2"
  }
 },
 "nbformat": 4,
 "nbformat_minor": 2
}
