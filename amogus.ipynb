{
 "cells": [
  {
   "cell_type": "code",
   "execution_count": null,
   "metadata": {},
   "outputs": [],
   "source": [
    "import pandas as pd\n",
    "import plotly.express as px"
   ]
  },
  {
   "cell_type": "code",
   "execution_count": null,
   "metadata": {},
   "outputs": [],
   "source": [
    "data = pd.read_csv('data/2017t.csv')"
   ]
  },
  {
   "cell_type": "code",
   "execution_count": null,
   "metadata": {},
   "outputs": [],
   "source": [
    "for bite in data.columns:\n",
    "    print(bite)"
   ]
  },
  {
   "cell_type": "code",
   "execution_count": null,
   "metadata": {},
   "outputs": [],
   "source": [
    "# Création de l'histogramme avec Plotly Express et modification de la légende\n",
    "fig = px.histogram(data, x='FL_DATE', title='Flights per day',\n",
    "                   labels={'FL_DATE': 'Date', 'count': 'Count'},\n",
    "                   range_y=[8000, 18000])\n",
    "\n",
    "# Affichage du graphique\n",
    "fig.show()\n"
   ]
  },
  {
   "cell_type": "code",
   "execution_count": null,
   "metadata": {},
   "outputs": [],
   "source": [
    "# Tri des données par fréquence décroissante des compagnies aériennes avec des vols annulés\n",
    "cancelled_data = data[data['CANCELLED'] == 1]['OP_CARRIER'].value_counts().reset_index().rename(columns={'index': 'OP_CARRIER', 'OP_CARRIER': 'count'})\n",
    "cancelled_data = cancelled_data.head(50)\n",
    "\n",
    "# Création de l'histogramme avec Plotly Express\n",
    "fig_cancelled = px.bar(cancelled_data, x='OP_CARRIER', y='count', title='Compagnies aériennes avec le plus d\\'annulations')\n",
    "\n",
    "# Affichage du graphique\n",
    "fig_cancelled.show()\n"
   ]
  },
  {
   "cell_type": "code",
   "execution_count": null,
   "metadata": {},
   "outputs": [],
   "source": [
    "# Distribution des compagnies aériennes\n",
    "carrier_distribution = data['OP_CARRIER'].value_counts().reset_index().rename(columns={'index': 'OP_CARRIER', 'OP_CARRIER': 'count'})\n",
    "\n",
    "# Création du diagramme circulaire avec Plotly Express\n",
    "fig_pie = px.pie(carrier_distribution, names='OP_CARRIER', values='count', title='Distribution des compagnies aériennes')\n",
    "\n",
    "# Affichage du graphique\n",
    "fig_pie.show()\n"
   ]
  },
  {
   "cell_type": "code",
   "execution_count": null,
   "metadata": {},
   "outputs": [],
   "source": [
    "# Filtrer les données où CANCELLED est égal à 1\n",
    "cancelled_data = data[data['CANCELLED'] == 1]\n",
    "\n",
    "# Distribution des codes d'annulation\n",
    "cancellation_code_distribution = cancelled_data['CANCELLATION_CODE'].value_counts().reset_index().rename(columns={'index': 'CANCELLATION_CODE', 'CANCELLATION_CODE': 'count'})\n",
    "\n",
    "# Mapping des codes d'annulation à des légendes personnalisées\n",
    "code_labels = {'A': 'Carrier', 'B': 'Weather', 'C': 'NAS', 'D': 'Security'}\n",
    "cancellation_code_distribution['CANCELLATION_LABEL'] = cancellation_code_distribution['CANCELLATION_CODE'].map(code_labels)\n",
    "\n",
    "# Création du diagramme circulaire avec Plotly Express\n",
    "fig_cancelled_pie = px.pie(cancellation_code_distribution, names='CANCELLATION_LABEL', values='count', title='Distribution des codes d\\'annulation pour les vols annulés')\n",
    "\n",
    "# Affichage du graphique\n",
    "fig_cancelled_pie.show()\n"
   ]
  },
  {
   "cell_type": "code",
   "execution_count": null,
   "metadata": {},
   "outputs": [],
   "source": [
    "# Calcul du temps moyen de retard par compagnie aérienne\n",
    "mean_delay_by_carrier = data.groupby('OP_CARRIER')['ARR_DELAY'].mean().reset_index()\n",
    "\n",
    "# Création du graphique à barres avec Plotly Express\n",
    "fig = px.bar(mean_delay_by_carrier, x='OP_CARRIER', y='ARR_DELAY',\n",
    "             labels={'ARR_DELAY': 'Temps Moyen de Retard (min)', 'OP_CARRIER': 'Compagnie Aérienne'},\n",
    "             title='Temps Moyen de Retard par Compagnie Aérienne')\n",
    "fig.update_layout(xaxis={'categoryorder':'total ascending'})\n",
    "fig.show()\n"
   ]
  },
  {
   "cell_type": "code",
   "execution_count": null,
   "metadata": {},
   "outputs": [],
   "source": [
    "len(data['OP_CARRIER'].unique())"
   ]
  },
  {
   "cell_type": "code",
   "execution_count": null,
   "metadata": {},
   "outputs": [],
   "source": [
    "# Sélectionnez les colonnes pertinentes\n",
    "selected_columns = ['CARRIER_DELAY', 'WEATHER_DELAY', 'NAS_DELAY', 'SECURITY_DELAY', 'LATE_AIRCRAFT_DELAY']\n",
    "\n",
    "# Calcul des moyennes par colonne\n",
    "mean_delays = data[selected_columns].mean().reset_index()\n",
    "mean_delays.columns = ['Type de Retard', 'Moyenne']\n",
    "\n",
    "# Création du graphique à barres avec Plotly Express\n",
    "fig = px.bar(mean_delays, x='Type de Retard', y='Moyenne',\n",
    "             labels={'Type de Retard': 'Types de Retards', 'Moyenne': 'Moyenne des Retards (min)'},\n",
    "             title='Moyennes des retards par type')\n",
    "fig.show()\n"
   ]
  },
  {
   "cell_type": "code",
   "execution_count": null,
   "metadata": {},
   "outputs": [],
   "source": []
  }
 ],
 "metadata": {
  "kernelspec": {
   "display_name": "Python 3",
   "language": "python",
   "name": "python3"
  },
  "language_info": {
   "codemirror_mode": {
    "name": "ipython",
    "version": 3
   },
   "file_extension": ".py",
   "mimetype": "text/x-python",
   "name": "python",
   "nbconvert_exporter": "python",
   "pygments_lexer": "ipython3",
   "version": "3.10.2"
  }
 },
 "nbformat": 4,
 "nbformat_minor": 2
}
